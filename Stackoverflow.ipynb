{
  "nbformat": 4,
  "nbformat_minor": 0,
  "metadata": {
    "colab": {
      "name": "Stackoverflow.ipynb",
      "provenance": [],
      "collapsed_sections": [],
      "authorship_tag": "ABX9TyMzyWqltKYvJxw21IPJYQ9S",
      "include_colab_link": true
    },
    "kernelspec": {
      "name": "python3",
      "display_name": "Python 3"
    },
    "language_info": {
      "name": "python"
    }
  },
  "cells": [
    {
      "cell_type": "markdown",
      "metadata": {
        "id": "view-in-github",
        "colab_type": "text"
      },
      "source": [
        "<a href=\"https://colab.research.google.com/github/jasonfangmagic/Stackoverflow/blob/main/Stackoverflow.ipynb\" target=\"_parent\"><img src=\"https://colab.research.google.com/assets/colab-badge.svg\" alt=\"Open In Colab\"/></a>"
      ]
    },
    {
      "cell_type": "markdown",
      "source": [
        "#Databricks"
      ],
      "metadata": {
        "id": "elsAkjTtH8-M"
      }
    },
    {
      "cell_type": "markdown",
      "source": [
        "R to Python"
      ],
      "metadata": {
        "id": "hSjvf3GlIELO"
      }
    },
    {
      "cell_type": "code",
      "source": [
        "\n",
        "%r\n",
        "library(SparkR)\n",
        "df <- createDataFrame(df_ns_weekly_units)\n",
        "createOrReplaceTempView(df, \"test_df\")\n",
        "head(df)"
      ],
      "metadata": {
        "id": "cKQSeyVeIIEe"
      },
      "execution_count": null,
      "outputs": []
    },
    {
      "cell_type": "code",
      "source": [
        "%python\n",
        "df = spark.sql(\"select * from test_df\")\n",
        "df.show()"
      ],
      "metadata": {
        "id": "kSX0RMGYIMXI"
      },
      "execution_count": null,
      "outputs": []
    },
    {
      "cell_type": "code",
      "source": [
        "%python\n",
        "py_df_ns_weekly_units = df.toPandas()"
      ],
      "metadata": {
        "id": "8QjAICCpITty"
      },
      "execution_count": null,
      "outputs": []
    },
    {
      "cell_type": "code",
      "source": [
        "%python\n",
        "py_df_ns_weekly_units.head()"
      ],
      "metadata": {
        "id": "Rz2ms6E6IVWj"
      },
      "execution_count": null,
      "outputs": []
    },
    {
      "cell_type": "markdown",
      "source": [
        "R to SparkDataframe to Spark sql dataframe"
      ],
      "metadata": {
        "id": "nLMuFMA-1y0F"
      }
    },
    {
      "cell_type": "code",
      "source": [
        "%r\n",
        "library(SparkR)\n",
        "df <- createDataFrame(df_ns_spend_spread)\n",
        "createOrReplaceTempView(df, \"test_df\")"
      ],
      "metadata": {
        "id": "Q18yWlPv15hu"
      },
      "execution_count": null,
      "outputs": []
    },
    {
      "cell_type": "code",
      "source": [
        "%python\n",
        "df = spark.sql(\"select * from test_df\")"
      ],
      "metadata": {
        "id": "CYoQdjLg1_27"
      },
      "execution_count": null,
      "outputs": []
    },
    {
      "cell_type": "code",
      "source": [
        "%python\n",
        "df.write.option('header','true').saveAsTable(\"Spend\")"
      ],
      "metadata": {
        "id": "Jpb7pZ1M2EWC"
      },
      "execution_count": null,
      "outputs": []
    },
    {
      "cell_type": "code",
      "source": [
        "%sql\n",
        "select * from Spend"
      ],
      "metadata": {
        "id": "dGmTzFp42LvG"
      },
      "execution_count": null,
      "outputs": []
    },
    {
      "cell_type": "markdown",
      "source": [
        "#Time Series"
      ],
      "metadata": {
        "id": "yY5IgZstKFkH"
      }
    },
    {
      "cell_type": "markdown",
      "source": [
        "https://pandas.pydata.org/pandas-docs/stable/user_guide/timeseries.html#anchored-offsets"
      ],
      "metadata": {
        "id": "qliiEjRnND1y"
      }
    },
    {
      "cell_type": "markdown",
      "source": [
        "## Set Time Series Frequency"
      ],
      "metadata": {
        "id": "76fDyJ_nKI9y"
      }
    },
    {
      "cell_type": "code",
      "source": [
        "X1=X1.asfreq('W-SAT')\n",
        "print(pd.infer_freq(X1.index))"
      ],
      "metadata": {
        "id": "qaptYfpmKH0m"
      },
      "execution_count": null,
      "outputs": []
    },
    {
      "cell_type": "markdown",
      "source": [
        "New Row in R"
      ],
      "metadata": {
        "id": "im3FGlBqYHk5"
      }
    },
    {
      "cell_type": "code",
      "source": [
        "df_ns_spend_spread[nrow(df_ns_spend_spread) + 1,] <- c(as.Date.numeric(\"2022-07-02\"), 2023,2, \"Americas\",468.38 ,0,2334, 20,10, 20,20,10, 20,10, 20,20,10, 27)\n",
        "\n",
        "df_ns_spend_spread[nrow(df_ns_spend_spread) + 1,] <- c(as.Date.numeric(\"2022-07-09\"), 2023,2, \"Americas\",468.38 ,0,2334, 20,10, 20,20,10, 20,10, 20,20,10, 28)\n",
        "\n",
        "df_ns_spend_spread[nrow(df_ns_spend_spread) + 1,] <- c(as.Date.numeric(\"2022-07-16\"), 2023,2, \"Americas\",468.38 ,0,2334, 20,10, 20,20,10, 20,10, 20,20,10, 29)\n",
        "\n",
        "df_ns_spend_spread[nrow(df_ns_spend_spread) + 1,] <- c(as.Date.numeric(\"2022-07-23\"), 2023,2, \"Americas\",468.38 ,0,2334, 20,10, 20,20,10, 20,10, 20,20,10, 30)\n",
        "\n",
        "df_ns_spend_spread[nrow(df_ns_spend_spread) + 1,] <- c(as.Date.numeric(\"2022-07-30\"), 2023,2, \"Americas\",468.38 ,0,2334, 20,10, 20,20,10, 20,10, 20,20,10, 31)\n",
        "\n",
        "df_ns_spend_spread[nrow(df_ns_spend_spread) + 1,] <- c(as.Date.numeric(\"2022-08-06\"), 2023,2, \"Americas\",468.38 ,0,2334, 20,10, 20,20,10, 20,10, 20,20,10, 32)\n",
        "\n",
        "df_ns_spend_spread[nrow(df_ns_spend_spread) + 1,] <- c(as.Date.numeric(\"2022-08-13\"), 2023,2, \"Americas\",468.38 ,0,2334, 20,10, 20,20,10, 20,10, 20,20,10, 33)\n",
        "\n",
        "df_ns_spend_spread[nrow(df_ns_spend_spread) + 1,] <- c(as.Date.numeric(\"2022-08-20\"), 2023,2, \"Americas\",468.38 ,0,2334, 20,10, 20,20,10, 20,10, 20,20,10, 34)\n",
        "\n",
        "df_ns_spend_spread[nrow(df_ns_spend_spread) + 1,] <- c(as.Date.numeric(\"2022-08-27\"), 2023,2,\"Americas\",468.38 ,0,2334, 20,10, 20,20,10, 20,10, 20,20,10, 35)\n",
        "\n",
        "df_ns_spend_spread[nrow(df_ns_spend_spread) + 1,] <- c(as.Date.numeric(\"2022-09-03\"), 2023,2, \"Americas\",468.38 ,0,2334, 20,10, 20,20,10, 20,10, 20,20,10, 36)\n",
        "\n",
        "df_ns_spend_spread[nrow(df_ns_spend_spread) + 1,] <- c(as.Date.numeric(\"2022-09-10\"), 2023,2, \"Americas\",468.38 ,0,2334, 20,10, 20,20,10, 20,10, 20,20,10, 37)\n",
        "\n",
        "df_ns_spend_spread[nrow(df_ns_spend_spread) + 1,] <- c(as.Date.numeric(\"2022-09-17\"), 2023,2, \"Americas\",468.38 ,0,2334, 20,10, 20,20,10, 20,10, 20,20,10, 38)\n",
        "\n",
        "df_ns_spend_spread[nrow(df_ns_spend_spread) + 1,] <- c(as.Date.numeric(\"2022-09-24\"), 2023,2, \"Americas\",468.38 ,0,2334, 20,10, 20,20,10, 20,10, 20,20,10, 39)"
      ],
      "metadata": {
        "id": "78Nmx4LtYHJV"
      },
      "execution_count": null,
      "outputs": []
    },
    {
      "cell_type": "markdown",
      "source": [
        "Convert all string columns to numeric in R"
      ],
      "metadata": {
        "id": "PRaiZx7ze9uC"
      }
    },
    {
      "cell_type": "code",
      "source": [
        "df_ns_email_spread = df_ns_email_spread %>% mutate_if(is.character,as.numeric)"
      ],
      "metadata": {
        "id": "F9zuvVHTfEOQ"
      },
      "execution_count": null,
      "outputs": []
    },
    {
      "cell_type": "markdown",
      "source": [
        "Excel Find number based on text"
      ],
      "metadata": {
        "id": "7s1Y9j7i44qq"
      }
    }
  ]
}