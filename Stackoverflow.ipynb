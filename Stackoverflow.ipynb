{
  "nbformat": 4,
  "nbformat_minor": 0,
  "metadata": {
    "colab": {
      "name": "Stackoverflow.ipynb",
      "provenance": [],
      "collapsed_sections": [],
      "authorship_tag": "ABX9TyPjgytdoqfnUIHWXQZmBTxx",
      "include_colab_link": true
    },
    "kernelspec": {
      "name": "python3",
      "display_name": "Python 3"
    },
    "language_info": {
      "name": "python"
    }
  },
  "cells": [
    {
      "cell_type": "markdown",
      "metadata": {
        "id": "view-in-github",
        "colab_type": "text"
      },
      "source": [
        "<a href=\"https://colab.research.google.com/github/jasonfangmagic/Stackoverflow/blob/main/Stackoverflow.ipynb\" target=\"_parent\"><img src=\"https://colab.research.google.com/assets/colab-badge.svg\" alt=\"Open In Colab\"/></a>"
      ]
    },
    {
      "cell_type": "markdown",
      "source": [
        "#Databricks"
      ],
      "metadata": {
        "id": "elsAkjTtH8-M"
      }
    },
    {
      "cell_type": "markdown",
      "source": [
        "R to SparkDataframe to Python"
      ],
      "metadata": {
        "id": "hSjvf3GlIELO"
      }
    },
    {
      "cell_type": "code",
      "source": [
        "\n",
        "%r\n",
        "library(SparkR)\n",
        "df <- createDataFrame(df_ns_weekly_units)\n",
        "createOrReplaceTempView(df, \"test_df\")\n",
        "head(df)"
      ],
      "metadata": {
        "id": "cKQSeyVeIIEe"
      },
      "execution_count": null,
      "outputs": []
    },
    {
      "cell_type": "code",
      "source": [
        "%python\n",
        "df = spark.sql(\"select * from test_df\")\n",
        "df.show()"
      ],
      "metadata": {
        "id": "kSX0RMGYIMXI"
      },
      "execution_count": null,
      "outputs": []
    },
    {
      "cell_type": "code",
      "source": [
        "%python\n",
        "py_df_ns_weekly_units = df.toPandas()"
      ],
      "metadata": {
        "id": "8QjAICCpITty"
      },
      "execution_count": null,
      "outputs": []
    },
    {
      "cell_type": "code",
      "source": [
        "%python\n",
        "py_df_ns_weekly_units.head()"
      ],
      "metadata": {
        "id": "Rz2ms6E6IVWj"
      },
      "execution_count": null,
      "outputs": []
    },
    {
      "cell_type": "markdown",
      "source": [
        "Only use matplotlib 3.2.0. Install before convert Spark dataframe to pandas. Date July 18th, 2022"
      ],
      "metadata": {
        "id": "gZqf0JbM-lpI"
      }
    },
    {
      "cell_type": "code",
      "source": [
        "%python \n",
        "pip install matplotlib==3.2.0"
      ],
      "metadata": {
        "id": "FZFakuZw-uO-"
      },
      "execution_count": null,
      "outputs": []
    },
    {
      "cell_type": "markdown",
      "source": [
        "R to SparkDataframe to Spark sql dataframe"
      ],
      "metadata": {
        "id": "nLMuFMA-1y0F"
      }
    },
    {
      "cell_type": "code",
      "source": [
        "%r\n",
        "library(SparkR)\n",
        "df <- createDataFrame(df_ns_spend_spread)\n",
        "createOrReplaceTempView(df, \"test_df\")"
      ],
      "metadata": {
        "id": "Q18yWlPv15hu"
      },
      "execution_count": null,
      "outputs": []
    },
    {
      "cell_type": "code",
      "source": [
        "%python\n",
        "df = spark.sql(\"select * from test_df\")"
      ],
      "metadata": {
        "id": "CYoQdjLg1_27"
      },
      "execution_count": null,
      "outputs": []
    },
    {
      "cell_type": "code",
      "source": [
        "################# Drop table first if \"Spend\" exists\n",
        "#%sql\n",
        "#DROP TABLE Spend;"
      ],
      "metadata": {
        "id": "-A9rOLcD35yH"
      },
      "execution_count": null,
      "outputs": []
    },
    {
      "cell_type": "code",
      "source": [
        "%python\n",
        "df.write.option('header','true').saveAsTable(\"Spend\")"
      ],
      "metadata": {
        "id": "Jpb7pZ1M2EWC"
      },
      "execution_count": null,
      "outputs": []
    },
    {
      "cell_type": "code",
      "source": [
        "%sql\n",
        "select * from Spend"
      ],
      "metadata": {
        "id": "dGmTzFp42LvG"
      },
      "execution_count": null,
      "outputs": []
    },
    {
      "cell_type": "markdown",
      "source": [
        "#Data Manipulation"
      ],
      "metadata": {
        "id": "29juUf49-C-4"
      }
    },
    {
      "cell_type": "markdown",
      "source": [
        "Numpy to Pandas"
      ],
      "metadata": {
        "id": "xIGAnM4To5UA"
      }
    },
    {
      "cell_type": "code",
      "source": [
        "y_pred = pd.DataFrame(y_pred, columns = ['paid_units_pred'])"
      ],
      "metadata": {
        "id": "ov24ePsYo6-B"
      },
      "execution_count": null,
      "outputs": []
    },
    {
      "cell_type": "markdown",
      "source": [
        "Drop Index"
      ],
      "metadata": {
        "id": "AwMjykp2rEdE"
      }
    },
    {
      "cell_type": "code",
      "source": [
        "y_test = y_test.reset_index(drop=True)"
      ],
      "metadata": {
        "id": "E_aeaR29rF5x"
      },
      "execution_count": null,
      "outputs": []
    },
    {
      "cell_type": "markdown",
      "source": [
        "Find position of the outlier"
      ],
      "metadata": {
        "id": "7_U5ECVj-Vpz"
      }
    },
    {
      "cell_type": "code",
      "source": [
        "%python\n",
        "#find position of the outlier\n",
        "i, j = (df.applymap(lambda x: str(x).startswith('Y'))).values.nonzero()\n",
        "t = list(zip(i, j))\n",
        "print (t)"
      ],
      "metadata": {
        "id": "Z6aN6P_l-MRs"
      },
      "execution_count": null,
      "outputs": []
    },
    {
      "cell_type": "markdown",
      "source": [
        "Get Dummy Variables"
      ],
      "metadata": {
        "id": "qhFRRGCU_mw5"
      }
    },
    {
      "cell_type": "code",
      "source": [
        "%python\n",
        "df = pd.get_dummies(df, prefix=['move_units'], \n",
        "                    columns=['move_units'])"
      ],
      "metadata": {
        "id": "X8WiHXV1_pHo"
      },
      "execution_count": null,
      "outputs": []
    },
    {
      "cell_type": "code",
      "source": [
        "%python\n",
        "df = df.drop(['move_units_N'],axis=1)"
      ],
      "metadata": {
        "id": "gZPmGfl-_qH-"
      },
      "execution_count": null,
      "outputs": []
    },
    {
      "cell_type": "markdown",
      "source": [
        "Series to Dataframe. When df.shape = (10,), Change it to (10,1)"
      ],
      "metadata": {
        "id": "_sB_o5VzLyTU"
      }
    },
    {
      "cell_type": "code",
      "source": [
        "test = test.to_frame()"
      ],
      "metadata": {
        "id": "MrNMTyLUL357"
      },
      "execution_count": null,
      "outputs": []
    },
    {
      "cell_type": "markdown",
      "source": [
        "Pandas meet two conditions"
      ],
      "metadata": {
        "id": "7x0CGyx2L5Ni"
      }
    },
    {
      "cell_type": "code",
      "source": [
        "test = xy[(xy['fiscal_year'] == MODEL_TEST_FISCAL_YR) & (xy['fiscal_quarter'] == MODEL_TEST_FISCAL_QTR)]"
      ],
      "metadata": {
        "id": "sBwCJBE1L9om"
      },
      "execution_count": null,
      "outputs": []
    },
    {
      "cell_type": "markdown",
      "source": [
        "Group by in Python"
      ],
      "metadata": {
        "id": "Nh2lMqSRYKO6"
      }
    },
    {
      "cell_type": "code",
      "source": [
        "train1 = train.groupby(['fiscal_year','fiscal_quarter']).sum()"
      ],
      "metadata": {
        "id": "Um-460wQYMZG"
      },
      "execution_count": null,
      "outputs": []
    },
    {
      "cell_type": "markdown",
      "source": [
        "## Pandas where clause in SQL "
      ],
      "metadata": {
        "id": "UTm3qyliy6gm"
      }
    },
    {
      "cell_type": "markdown",
      "source": [
        "y = df[(df['fiscal_year'] == MODEL_TEST_FISCAL_YR) & (df['fiscal_quarter'] == MODEL_TEST_FISCAL_QTR)]\n",
        "\n",
        "\n",
        "y = df[(df['fiscal_year'] == 2020) & (df['fiscal_quarter'] == 1)]"
      ],
      "metadata": {
        "id": "G9snT9JKy49g"
      }
    },
    {
      "cell_type": "markdown",
      "source": [
        "#Time Series"
      ],
      "metadata": {
        "id": "yY5IgZstKFkH"
      }
    },
    {
      "cell_type": "markdown",
      "source": [
        "# Set Time Series Frequency"
      ],
      "metadata": {
        "id": "76fDyJ_nKI9y"
      }
    },
    {
      "cell_type": "markdown",
      "source": [
        "https://pandas.pydata.org/pandas-docs/stable/user_guide/timeseries.html#anchored-offsets"
      ],
      "metadata": {
        "id": "qliiEjRnND1y"
      }
    },
    {
      "cell_type": "code",
      "source": [
        "X1=X1.asfreq('W-SAT')\n",
        "print(pd.infer_freq(X1.index))"
      ],
      "metadata": {
        "id": "qaptYfpmKH0m"
      },
      "execution_count": null,
      "outputs": []
    },
    {
      "cell_type": "markdown",
      "source": [
        "New Row in R"
      ],
      "metadata": {
        "id": "im3FGlBqYHk5"
      }
    },
    {
      "cell_type": "code",
      "source": [
        "df_ns_spend_spread[nrow(df_ns_spend_spread) + 1,] <- c(as.Date.numeric(\"2022-07-02\"), 2023,2, \"Americas\",468.38 ,0,2334, 20,10, 20,20,10, 20,10, 20,20,10, 27)"
      ],
      "metadata": {
        "id": "78Nmx4LtYHJV"
      },
      "execution_count": null,
      "outputs": []
    },
    {
      "cell_type": "markdown",
      "source": [
        "Convert all string columns to numeric in R"
      ],
      "metadata": {
        "id": "PRaiZx7ze9uC"
      }
    },
    {
      "cell_type": "code",
      "source": [
        "df_ns_email_spread = df_ns_email_spread %>% mutate_if(is.character,as.numeric)"
      ],
      "metadata": {
        "id": "F9zuvVHTfEOQ"
      },
      "execution_count": null,
      "outputs": []
    },
    {
      "cell_type": "markdown",
      "source": [
        "Excel Find number based on text"
      ],
      "metadata": {
        "id": "7s1Y9j7i44qq"
      }
    },
    {
      "cell_type": "markdown",
      "source": [
        "#Evaluation"
      ],
      "metadata": {
        "id": "JkXO9wBjN0TV"
      }
    },
    {
      "cell_type": "markdown",
      "source": [
        "Regression"
      ],
      "metadata": {
        "id": "y_t_tetxN4wb"
      }
    },
    {
      "cell_type": "code",
      "source": [
        "%python\n",
        "MSE = mse(y_test['paid_units_new'],y_pred)\n",
        "RMSE = rmse(y_test['paid_units_new'],y_pred)\n",
        "MAE = meanabs(y_test['paid_units_new'],y_pred)\n",
        "from sklearn.metrics import r2_score\n",
        "import statistics\n",
        "Mean = statistics.mean(y_test['paid_units_new'])\n",
        "R_squared = r2_score(y_test['paid_units_new'], y_pred)\n",
        "print(f'Model  R_squared: {R_squared:.3f}')\n",
        "print(f'Model  Mean: {Mean:.3f}')\n",
        "print(f'Model RMSE: {RMSE:.3f}')\n",
        "print(f'Model  MSE: {MSE:.3f}')\n",
        "print(f'Model  MAE: {MAE:.3f}')\n"
      ],
      "metadata": {
        "id": "qFM31QfvN3yh"
      },
      "execution_count": null,
      "outputs": []
    },
    {
      "cell_type": "markdown",
      "source": [
        "##Grid Search"
      ],
      "metadata": {
        "id": "Xof62ZvGSFLH"
      }
    },
    {
      "cell_type": "markdown",
      "source": [
        "Regression"
      ],
      "metadata": {
        "id": "LmFbN1oPSI8t"
      }
    },
    {
      "cell_type": "code",
      "source": [
        "%python\n",
        "parameters = {\"n_estimators\": [10, 20, 30],\n",
        "              \"max_depth\": [3, 5, 10, None],\n",
        "              \"max_features\": [1, 5, 10],\n",
        "              'min_samples_split': [2, 5, 10],\n",
        "              'min_samples_leaf': [1, 5, 10],\n",
        "              \"min_weight_fraction_leaf\":[2,3,5,8,10],\n",
        "              \"max_features\":[\"sqrt\", \"log2\", None],\n",
        "              \"bootstrap\": [True, False],\n",
        "              \"criterion\": [\"squared_error\", \"absolute_error\", \"poisson\"]}"
      ],
      "metadata": {
        "id": "Yh7LlGKnSIDC"
      },
      "execution_count": null,
      "outputs": []
    }
  ]
}