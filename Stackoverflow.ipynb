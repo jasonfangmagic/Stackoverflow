{
  "nbformat": 4,
  "nbformat_minor": 0,
  "metadata": {
    "colab": {
      "name": "Stackoverflow.ipynb",
      "provenance": [],
      "collapsed_sections": [],
      "authorship_tag": "ABX9TyN8CBhlul/gEeQ1dNiWHjqX",
      "include_colab_link": true
    },
    "kernelspec": {
      "name": "python3",
      "display_name": "Python 3"
    },
    "language_info": {
      "name": "python"
    }
  },
  "cells": [
    {
      "cell_type": "markdown",
      "metadata": {
        "id": "view-in-github",
        "colab_type": "text"
      },
      "source": [
        "<a href=\"https://colab.research.google.com/github/jasonfangmagic/Stackoverflow/blob/main/Stackoverflow.ipynb\" target=\"_parent\"><img src=\"https://colab.research.google.com/assets/colab-badge.svg\" alt=\"Open In Colab\"/></a>"
      ]
    },
    {
      "cell_type": "markdown",
      "source": [
        "#Databricks"
      ],
      "metadata": {
        "id": "elsAkjTtH8-M"
      }
    },
    {
      "cell_type": "markdown",
      "source": [
        "R to Python"
      ],
      "metadata": {
        "id": "hSjvf3GlIELO"
      }
    },
    {
      "cell_type": "code",
      "source": [
        "\n",
        "%r\n",
        "library(SparkR)\n",
        "df <- createDataFrame(df_ns_weekly_units)\n",
        "createOrReplaceTempView(df, \"test_df\")\n",
        "head(df)"
      ],
      "metadata": {
        "id": "cKQSeyVeIIEe"
      },
      "execution_count": null,
      "outputs": []
    },
    {
      "cell_type": "code",
      "source": [
        "%python\n",
        "df = spark.sql(\"select * from test_df\")\n",
        "df.show()"
      ],
      "metadata": {
        "id": "kSX0RMGYIMXI"
      },
      "execution_count": null,
      "outputs": []
    },
    {
      "cell_type": "code",
      "source": [
        "%python\n",
        "py_df_ns_weekly_units = df.toPandas()"
      ],
      "metadata": {
        "id": "8QjAICCpITty"
      },
      "execution_count": null,
      "outputs": []
    },
    {
      "cell_type": "code",
      "source": [
        "%python\n",
        "py_df_ns_weekly_units.head()"
      ],
      "metadata": {
        "id": "Rz2ms6E6IVWj"
      },
      "execution_count": null,
      "outputs": []
    },
    {
      "cell_type": "markdown",
      "source": [
        "#Time Series"
      ],
      "metadata": {
        "id": "yY5IgZstKFkH"
      }
    },
    {
      "cell_type": "markdown",
      "source": [
        "https://pandas.pydata.org/pandas-docs/stable/user_guide/timeseries.html#anchored-offsets"
      ],
      "metadata": {
        "id": "qliiEjRnND1y"
      }
    },
    {
      "cell_type": "markdown",
      "source": [
        "## Set Time Series Frequency"
      ],
      "metadata": {
        "id": "76fDyJ_nKI9y"
      }
    },
    {
      "cell_type": "code",
      "source": [
        "X1=X1.asfreq('W-SAT')\n",
        "print(pd.infer_freq(X1.index))"
      ],
      "metadata": {
        "id": "qaptYfpmKH0m"
      },
      "execution_count": null,
      "outputs": []
    }
  ]
}