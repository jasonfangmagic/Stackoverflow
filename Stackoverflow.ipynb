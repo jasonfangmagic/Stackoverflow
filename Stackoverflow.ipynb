{
  "nbformat": 4,
  "nbformat_minor": 0,
  "metadata": {
    "colab": {
      "provenance": [],
      "collapsed_sections": [],
      "authorship_tag": "ABX9TyNqCJFjalTeNKOHW172gBzU",
      "include_colab_link": true
    },
    "kernelspec": {
      "name": "python3",
      "display_name": "Python 3"
    },
    "language_info": {
      "name": "python"
    }
  },
  "cells": [
    {
      "cell_type": "markdown",
      "metadata": {
        "id": "view-in-github",
        "colab_type": "text"
      },
      "source": [
        "<a href=\"https://colab.research.google.com/github/jasonfangmagic/Stackoverflow/blob/main/Stackoverflow.ipynb\" target=\"_parent\"><img src=\"https://colab.research.google.com/assets/colab-badge.svg\" alt=\"Open In Colab\"/></a>"
      ]
    },
    {
      "cell_type": "markdown",
      "source": [
        "#Sklearn Evaluation Metrics"
      ],
      "metadata": {
        "id": "3-JiQWrwr-n7"
      }
    },
    {
      "cell_type": "markdown",
      "source": [
        "https://scikit-learn.org/stable/modules/model_evaluation.html\n"
      ],
      "metadata": {
        "id": "mu1aMiNgsFpw"
      }
    },
    {
      "cell_type": "markdown",
      "source": [
        "#Databricks"
      ],
      "metadata": {
        "id": "elsAkjTtH8-M"
      }
    },
    {
      "cell_type": "markdown",
      "source": [
        "R to SparkDataframe to Python."
      ],
      "metadata": {
        "id": "hSjvf3GlIELO"
      }
    },
    {
      "cell_type": "code",
      "source": [
        "\n",
        "%r\n",
        "library(SparkR)\n",
        "df <- createDataFrame(df_ns_weekly_units)\n",
        "createOrReplaceTempView(df, \"test_df\")\n",
        "head(df)"
      ],
      "metadata": {
        "id": "cKQSeyVeIIEe"
      },
      "execution_count": null,
      "outputs": []
    },
    {
      "cell_type": "code",
      "source": [
        "%python\n",
        "df = spark.sql(\"select * from test_df\")\n",
        "df.show()"
      ],
      "metadata": {
        "id": "kSX0RMGYIMXI"
      },
      "execution_count": null,
      "outputs": []
    },
    {
      "cell_type": "code",
      "source": [
        "%python\n",
        "py_df_ns_weekly_units = df.toPandas()"
      ],
      "metadata": {
        "id": "8QjAICCpITty"
      },
      "execution_count": null,
      "outputs": []
    },
    {
      "cell_type": "code",
      "source": [
        "%python\n",
        "py_df_ns_weekly_units.head()"
      ],
      "metadata": {
        "id": "Rz2ms6E6IVWj"
      },
      "execution_count": null,
      "outputs": []
    },
    {
      "cell_type": "markdown",
      "source": [
        "Only use matplotlib 3.2.0. Install before convert Spark dataframe to pandas. Date July 18th, 2022"
      ],
      "metadata": {
        "id": "gZqf0JbM-lpI"
      }
    },
    {
      "cell_type": "code",
      "source": [
        "%python \n",
        "pip install matplotlib==3.2.0"
      ],
      "metadata": {
        "id": "FZFakuZw-uO-"
      },
      "execution_count": null,
      "outputs": []
    },
    {
      "cell_type": "markdown",
      "source": [
        "R to SparkDataframe to Spark sql dataframe"
      ],
      "metadata": {
        "id": "nLMuFMA-1y0F"
      }
    },
    {
      "cell_type": "code",
      "source": [
        "%r\n",
        "library(SparkR)\n",
        "df <- createDataFrame(df_ns_spend_spread)\n",
        "createOrReplaceTempView(df, \"test_df\")"
      ],
      "metadata": {
        "id": "Q18yWlPv15hu"
      },
      "execution_count": null,
      "outputs": []
    },
    {
      "cell_type": "code",
      "source": [
        "%python\n",
        "df = spark.sql(\"select * from test_df\")"
      ],
      "metadata": {
        "id": "CYoQdjLg1_27"
      },
      "execution_count": null,
      "outputs": []
    },
    {
      "cell_type": "code",
      "source": [
        "################# Drop table first if \"Spend\" exists\n",
        "#%sql\n",
        "#DROP TABLE Spend;"
      ],
      "metadata": {
        "id": "-A9rOLcD35yH"
      },
      "execution_count": null,
      "outputs": []
    },
    {
      "cell_type": "code",
      "source": [
        "%python\n",
        "df.write.option('header','true').saveAsTable(\"Spend\")"
      ],
      "metadata": {
        "id": "Jpb7pZ1M2EWC"
      },
      "execution_count": null,
      "outputs": []
    },
    {
      "cell_type": "code",
      "source": [
        "%sql\n",
        "select * from Spend"
      ],
      "metadata": {
        "id": "dGmTzFp42LvG"
      },
      "execution_count": null,
      "outputs": []
    },
    {
      "cell_type": "markdown",
      "source": [
        "#Adding new table"
      ],
      "metadata": {
        "id": "zQWo0Rytt6lw"
      }
    },
    {
      "cell_type": "code",
      "source": [
        "%python\n",
        "# File location and type\n",
        "file_location = \"/FileStore/tables/L1.csv\"\n",
        "file_type = \"csv\"\n",
        "\n",
        "# CSV options\n",
        "infer_schema = \"false\"\n",
        "first_row_is_header = \"true\"\n",
        "delimiter = \",\"\n",
        "\n",
        "# The applied options are for CSV files. For other file types, these will be ignored.\n",
        "df = spark.read.format(file_type) \\\n",
        "  .option(\"inferSchema\", infer_schema) \\\n",
        "  .option(\"header\", first_row_is_header) \\\n",
        "  .option(\"sep\", delimiter) \\\n",
        "  .load(file_location)\n",
        "\n",
        "display(df)"
      ],
      "metadata": {
        "id": "VOZPqDWNt-Z6"
      },
      "execution_count": null,
      "outputs": []
    },
    {
      "cell_type": "code",
      "source": [
        "%python\n",
        "temp_table_name = \"ll_budget\"\n",
        "\n",
        "df.createOrReplaceTempView(temp_table_name)"
      ],
      "metadata": {
        "id": "UMUdPt7vuA2m"
      },
      "execution_count": null,
      "outputs": []
    },
    {
      "cell_type": "code",
      "source": [
        "%python\n",
        "ll_budget = spark.sql(\"select * from ll_budget\")"
      ],
      "metadata": {
        "id": "p8OZDKJUuEjR"
      },
      "execution_count": null,
      "outputs": []
    },
    {
      "cell_type": "code",
      "source": [
        "ll_budget <- sprintf(\"\n",
        "  Select \n",
        "*\n",
        "  From ll_budget\n",
        "\n",
        "\", DATE_FISCAL_WEEK_MIN, DATE_FISCAL_WEEK_MAX\n",
        ")\n",
        "\n",
        "df_ll_budget <- ll_budget %>% \n",
        "  SparkR::sql() %>% \n",
        "  as.data.frame()\n",
        "\n",
        "\n",
        "display(df_ll_budget)"
      ],
      "metadata": {
        "id": "f1FPH0G-uJLO"
      },
      "execution_count": null,
      "outputs": []
    },
    {
      "cell_type": "markdown",
      "source": [
        "#Model "
      ],
      "metadata": {
        "id": "8ww-B0FX6LGV"
      }
    },
    {
      "cell_type": "markdown",
      "source": [
        "Normalization "
      ],
      "metadata": {
        "id": "h8v0a8IG6RbR"
      }
    },
    {
      "cell_type": "code",
      "source": [],
      "metadata": {
        "id": "dU8Whud06Q4m"
      },
      "execution_count": null,
      "outputs": []
    },
    {
      "cell_type": "markdown",
      "source": [
        "#Data Manipulation"
      ],
      "metadata": {
        "id": "29juUf49-C-4"
      }
    },
    {
      "cell_type": "markdown",
      "source": [
        "Numpy to Pandas"
      ],
      "metadata": {
        "id": "xIGAnM4To5UA"
      }
    },
    {
      "cell_type": "code",
      "source": [
        "y_pred = pd.DataFrame(y_pred, columns = ['paid_units_pred'])"
      ],
      "metadata": {
        "id": "ov24ePsYo6-B"
      },
      "execution_count": null,
      "outputs": []
    },
    {
      "cell_type": "markdown",
      "source": [
        "Drop Index"
      ],
      "metadata": {
        "id": "AwMjykp2rEdE"
      }
    },
    {
      "cell_type": "code",
      "source": [
        "y_test = y_test.reset_index(drop=True)"
      ],
      "metadata": {
        "id": "E_aeaR29rF5x"
      },
      "execution_count": null,
      "outputs": []
    },
    {
      "cell_type": "markdown",
      "source": [
        "Find position of the outlier."
      ],
      "metadata": {
        "id": "7_U5ECVj-Vpz"
      }
    },
    {
      "cell_type": "code",
      "source": [
        "%python\n",
        "#find position of the outlier\n",
        "i, j = (df.applymap(lambda x: str(x).startswith('Y'))).values.nonzero()\n",
        "t = list(zip(i, j))\n",
        "print (t)"
      ],
      "metadata": {
        "id": "Z6aN6P_l-MRs"
      },
      "execution_count": null,
      "outputs": []
    },
    {
      "cell_type": "markdown",
      "source": [
        "Get Dummy Variables"
      ],
      "metadata": {
        "id": "qhFRRGCU_mw5"
      }
    },
    {
      "cell_type": "code",
      "source": [
        "%python\n",
        "df = pd.get_dummies(df, prefix=['move_units'], \n",
        "                    columns=['move_units'])"
      ],
      "metadata": {
        "id": "X8WiHXV1_pHo"
      },
      "execution_count": null,
      "outputs": []
    },
    {
      "cell_type": "code",
      "source": [
        "%python\n",
        "df = df.drop(['move_units_N'],axis=1)"
      ],
      "metadata": {
        "id": "gZPmGfl-_qH-"
      },
      "execution_count": null,
      "outputs": []
    },
    {
      "cell_type": "markdown",
      "source": [
        "Series to Dataframe. When df.shape = (10,), Change it to (10,1)"
      ],
      "metadata": {
        "id": "_sB_o5VzLyTU"
      }
    },
    {
      "cell_type": "code",
      "source": [
        "test = test.to_frame()"
      ],
      "metadata": {
        "id": "MrNMTyLUL357"
      },
      "execution_count": null,
      "outputs": []
    },
    {
      "cell_type": "markdown",
      "source": [
        "Pandas meet two conditions"
      ],
      "metadata": {
        "id": "7x0CGyx2L5Ni"
      }
    },
    {
      "cell_type": "code",
      "source": [
        "test = xy[(xy['fiscal_year'] == MODEL_TEST_FISCAL_YR) & (xy['fiscal_quarter'] == MODEL_TEST_FISCAL_QTR)]"
      ],
      "metadata": {
        "id": "sBwCJBE1L9om"
      },
      "execution_count": null,
      "outputs": []
    },
    {
      "cell_type": "markdown",
      "source": [
        "Group by in Python"
      ],
      "metadata": {
        "id": "Nh2lMqSRYKO6"
      }
    },
    {
      "cell_type": "code",
      "source": [
        "train1 = train.groupby(['fiscal_year','fiscal_quarter']).sum()"
      ],
      "metadata": {
        "id": "Um-460wQYMZG"
      },
      "execution_count": null,
      "outputs": []
    },
    {
      "cell_type": "markdown",
      "source": [
        "Make the Date column as index"
      ],
      "metadata": {
        "id": "HUY1J9SAi6lp"
      }
    },
    {
      "cell_type": "code",
      "source": [
        "xy['date'] = xy.index"
      ],
      "metadata": {
        "id": "6ebG-sRBi52W"
      },
      "execution_count": null,
      "outputs": []
    },
    {
      "cell_type": "markdown",
      "source": [
        "Replace 0 with mean "
      ],
      "metadata": {
        "id": "98NWONDtFVkx"
      }
    },
    {
      "cell_type": "code",
      "source": [
        "from sklearn.impute import SimpleImputer\n",
        "impute = SimpleImputer(missing_values=0,strategy='mean')"
      ],
      "metadata": {
        "id": "jlpU4xeMFYAp"
      },
      "execution_count": null,
      "outputs": []
    },
    {
      "cell_type": "code",
      "source": [
        "c = list(xy)\n",
        "df1 = pd.DataFrame(impute.fit_transform(xy), columns=c)"
      ],
      "metadata": {
        "id": "NgHVE-FpFkI0"
      },
      "execution_count": null,
      "outputs": []
    },
    {
      "cell_type": "markdown",
      "source": [
        "Find Min/Max"
      ],
      "metadata": {
        "id": "RvRme64OKYzP"
      }
    },
    {
      "cell_type": "code",
      "source": [
        "print(xy.min())"
      ],
      "metadata": {
        "id": "Wm_uL77iKa2e"
      },
      "execution_count": null,
      "outputs": []
    },
    {
      "cell_type": "markdown",
      "source": [
        "Negative numbers to 0 "
      ],
      "metadata": {
        "id": "wdpILv4iNPbG"
      }
    },
    {
      "cell_type": "code",
      "source": [
        "xy['col_1'] = xy['col_1'].clip(lower=0)"
      ],
      "metadata": {
        "id": "JcC7iJEXNVRK"
      },
      "execution_count": null,
      "outputs": []
    },
    {
      "cell_type": "markdown",
      "source": [
        "#Data Presentation for Sklearn Predictions"
      ],
      "metadata": {
        "id": "NPoKB-26pa_D"
      }
    },
    {
      "cell_type": "code",
      "source": [
        "from sklearn.ensemble import RandomForestRegressor\n",
        "regressor = RandomForestRegressor(n_estimators = 10, random_state = 0)\n",
        "regressor.fit(X_train, y_train)"
      ],
      "metadata": {
        "id": "SXEi8oRppjfu"
      },
      "execution_count": null,
      "outputs": []
    },
    {
      "cell_type": "code",
      "source": [
        "y_pred = regressor.predict(X_test)"
      ],
      "metadata": {
        "id": "x-bcwFYcptcU"
      },
      "execution_count": null,
      "outputs": []
    },
    {
      "cell_type": "code",
      "source": [
        "y_pred = pd.DataFrame(y_pred, columns = ['paid_units'])"
      ],
      "metadata": {
        "id": "g5FOwPRUp58t"
      },
      "execution_count": null,
      "outputs": []
    },
    {
      "cell_type": "code",
      "source": [
        "#rename paid units\n",
        "y_pred.rename(columns={\"paid_units\": \"paid_units_pred\"}, inplace=True)\n",
        "y_pred.head()"
      ],
      "metadata": {
        "id": "ugSXygTJp-JU"
      },
      "execution_count": null,
      "outputs": []
    },
    {
      "cell_type": "code",
      "source": [
        "y_test1 = y_test.reset_index(level=0)"
      ],
      "metadata": {
        "id": "GptkMIIhqBwU"
      },
      "execution_count": null,
      "outputs": []
    },
    {
      "cell_type": "code",
      "source": [
        "#rename paid units\n",
        "y_test1.rename(columns={\"paid_units\": \"paid_units_true\"}, inplace=True)\n",
        "y_test1.head()"
      ],
      "metadata": {
        "id": "GtnKeAshqHlJ"
      },
      "execution_count": null,
      "outputs": []
    },
    {
      "cell_type": "code",
      "source": [
        "results = y_test1.merge(y_pred, how='outer', left_index=True, right_index=True)"
      ],
      "metadata": {
        "id": "Dkwa4Oa8qYed"
      },
      "execution_count": null,
      "outputs": []
    },
    {
      "cell_type": "code",
      "source": [
        "results.set_index('fiscal_week',inplace=True)"
      ],
      "metadata": {
        "id": "8MPnYHDBqdSq"
      },
      "execution_count": null,
      "outputs": []
    },
    {
      "cell_type": "code",
      "source": [
        "results['diff']=results['paid_units_true']-results['paid_units_pred']"
      ],
      "metadata": {
        "id": "8nfus_eR0Ure"
      },
      "execution_count": null,
      "outputs": []
    },
    {
      "cell_type": "code",
      "source": [
        "results['pct'] = results['diff']/results['paid_units_true']"
      ],
      "metadata": {
        "id": "GngR8Rhh3Ut8"
      },
      "execution_count": null,
      "outputs": []
    },
    {
      "cell_type": "code",
      "source": [
        "results.loc['Total']= results.sum()"
      ],
      "metadata": {
        "id": "LmxHGD5w3aAV"
      },
      "execution_count": null,
      "outputs": []
    },
    {
      "cell_type": "markdown",
      "source": [
        "#Plots"
      ],
      "metadata": {
        "id": "nSpLFI4Y9Kwh"
      }
    },
    {
      "cell_type": "markdown",
      "source": [
        "##Two Variables Plots"
      ],
      "metadata": {
        "id": "Jqmcidy69M2g"
      }
    },
    {
      "cell_type": "code",
      "source": [
        "title = 'MMX EstoreNS New'\n",
        "ylabel='paid_units'\n",
        "xlabel='total_budget'\n",
        "\n",
        "ax = image['paid_units'].plot(figsize=(18,6),title=title)\n",
        "ax.autoscale(axis='x',tight=True)\n",
        "ax.set(xlabel=xlabel, ylabel=ylabel)"
      ],
      "metadata": {
        "id": "Q1AbOvB59RBu"
      },
      "execution_count": null,
      "outputs": []
    },
    {
      "cell_type": "code",
      "source": [
        "ax1 = xy.plot.scatter(x='ll_tvsf',\n",
        "                      y='paid_units',\n",
        "                      c='DarkBlue')"
      ],
      "metadata": {
        "id": "q4OsqNo7JaON"
      },
      "execution_count": null,
      "outputs": []
    },
    {
      "cell_type": "markdown",
      "source": [
        "## Pandas where clause in SQL "
      ],
      "metadata": {
        "id": "UTm3qyliy6gm"
      }
    },
    {
      "cell_type": "code",
      "source": [
        "y = df[(df['fiscal_year'] == MODEL_TEST_FISCAL_YR) & (df['fiscal_quarter'] == MODEL_TEST_FISCAL_QTR)]"
      ],
      "metadata": {
        "id": "9RnmQ5yAqo4s"
      },
      "execution_count": null,
      "outputs": []
    },
    {
      "cell_type": "code",
      "source": [
        "y = df[(df['fiscal_year'] == 2020) & (df['fiscal_quarter'] == 1)]"
      ],
      "metadata": {
        "id": "BnciXAPpqt3S"
      },
      "execution_count": null,
      "outputs": []
    },
    {
      "cell_type": "markdown",
      "source": [
        "#Time Series"
      ],
      "metadata": {
        "id": "yY5IgZstKFkH"
      }
    },
    {
      "cell_type": "markdown",
      "source": [
        "# Set Time Series Frequency"
      ],
      "metadata": {
        "id": "76fDyJ_nKI9y"
      }
    },
    {
      "cell_type": "markdown",
      "source": [
        "https://pandas.pydata.org/pandas-docs/stable/user_guide/timeseries.html#anchored-offsets"
      ],
      "metadata": {
        "id": "qliiEjRnND1y"
      }
    },
    {
      "cell_type": "code",
      "source": [
        "X1=X1.asfreq('W-SAT')\n",
        "print(pd.infer_freq(X1.index))"
      ],
      "metadata": {
        "id": "qaptYfpmKH0m"
      },
      "execution_count": null,
      "outputs": []
    },
    {
      "cell_type": "markdown",
      "source": [
        "New Row in R"
      ],
      "metadata": {
        "id": "im3FGlBqYHk5"
      }
    },
    {
      "cell_type": "code",
      "source": [
        "df_ns_spend_spread[nrow(spend_spread) + 1,] <- c(as.Date.numeric(\"2022-07-01\"), 2021,3, \"Americas\",1 ,0,1, 2,10, 20,20,10, 20,10, 20,20,10, 27)"
      ],
      "metadata": {
        "id": "78Nmx4LtYHJV"
      },
      "execution_count": null,
      "outputs": []
    },
    {
      "cell_type": "markdown",
      "source": [
        "Convert all string columns to numeric in R"
      ],
      "metadata": {
        "id": "PRaiZx7ze9uC"
      }
    },
    {
      "cell_type": "code",
      "source": [
        "df_ns_email_spread = df_ns_email_spread %>% mutate_if(is.character,as.numeric)"
      ],
      "metadata": {
        "id": "F9zuvVHTfEOQ"
      },
      "execution_count": null,
      "outputs": []
    },
    {
      "cell_type": "markdown",
      "source": [
        "Excel Find number based on text"
      ],
      "metadata": {
        "id": "7s1Y9j7i44qq"
      }
    },
    {
      "cell_type": "markdown",
      "source": [
        "#Evaluation"
      ],
      "metadata": {
        "id": "JkXO9wBjN0TV"
      }
    },
    {
      "cell_type": "markdown",
      "source": [
        "Regression"
      ],
      "metadata": {
        "id": "y_t_tetxN4wb"
      }
    },
    {
      "cell_type": "code",
      "source": [
        "%python\n",
        "MSE = mse(y_test['paid_units_new'],y_pred)\n",
        "RMSE = rmse(y_test['paid_units_new'],y_pred)\n",
        "MAE = meanabs(y_test['paid_units_new'],y_pred)\n",
        "from sklearn.metrics import r2_score\n",
        "import statistics\n",
        "Mean = statistics.mean(y_test['paid_units_new'])\n",
        "R_squared = r2_score(y_test['paid_units_new'], y_pred)\n",
        "print(f'Model  R_squared: {R_squared:.3f}')\n",
        "print(f'Model  Mean: {Mean:.3f}')\n",
        "print(f'Model RMSE: {RMSE:.3f}')\n",
        "print(f'Model  MSE: {MSE:.3f}')\n",
        "print(f'Model  MAE: {MAE:.3f}')\n"
      ],
      "metadata": {
        "id": "qFM31QfvN3yh"
      },
      "execution_count": null,
      "outputs": []
    },
    {
      "cell_type": "markdown",
      "source": [
        "##Grid Search"
      ],
      "metadata": {
        "id": "Xof62ZvGSFLH"
      }
    },
    {
      "cell_type": "markdown",
      "source": [
        "Regression"
      ],
      "metadata": {
        "id": "LmFbN1oPSI8t"
      }
    },
    {
      "cell_type": "code",
      "source": [
        "%python\n",
        "parameters = {\"n_estimators\": [10, 20, 30],\n",
        "              \"max_depth\": [3, 5, 10, None],\n",
        "              \"max_features\": [1, 5, 10],\n",
        "              'min_samples_split': [2, 5, 10],\n",
        "              'min_samples_leaf': [1, 5, 10],\n",
        "              \"min_weight_fraction_leaf\":[2,3,5,8,10],\n",
        "              \"max_features\":[\"sqrt\", \"log2\", None],\n",
        "              \"bootstrap\": [True, False],\n",
        "              \"criterion\": [\"squared_error\", \"absolute_error\", \"poisson\"]}"
      ],
      "metadata": {
        "id": "Yh7LlGKnSIDC"
      },
      "execution_count": null,
      "outputs": []
    },
    {
      "cell_type": "markdown",
      "source": [
        "#Deep Learning"
      ],
      "metadata": {
        "id": "EUeHhaDZFofZ"
      }
    },
    {
      "cell_type": "markdown",
      "source": [
        "Convert pandas or numpy for ANN traning "
      ],
      "metadata": {
        "id": "vierB1PYFstI"
      }
    },
    {
      "cell_type": "code",
      "source": [
        "X_train = np.asarray(X_train).astype('float32')"
      ],
      "metadata": {
        "id": "BG-FCUmwFrrK"
      },
      "execution_count": null,
      "outputs": []
    },
    {
      "cell_type": "markdown",
      "source": [
        "#SQL"
      ],
      "metadata": {
        "id": "Gwq2KMh-zeiR"
      }
    },
    {
      "cell_type": "markdown",
      "source": [
        "Select top 10 rows"
      ],
      "metadata": {
        "id": "LkoPaQYRzjkJ"
      }
    },
    {
      "cell_type": "code",
      "source": [
        "select top 10* from database"
      ],
      "metadata": {
        "id": "MlxNsPcFziv-"
      },
      "execution_count": null,
      "outputs": []
    },
    {
      "cell_type": "code",
      "source": [],
      "metadata": {
        "id": "ON8sGf0TK6Rv"
      },
      "execution_count": null,
      "outputs": []
    }
  ]
}